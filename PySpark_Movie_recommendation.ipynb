{
  "nbformat": 4,
  "nbformat_minor": 0,
  "metadata": {
    "colab": {
      "name": "PySpark - Movie recommendation.ipynb",
      "provenance": [],
      "toc_visible": true
    },
    "kernelspec": {
      "name": "python3",
      "display_name": "Python 3"
    },
    "language_info": {
      "name": "python"
    }
  },
  "cells": [
    {
      "cell_type": "markdown",
      "metadata": {
        "id": "R9Cmg-2B_J8j"
      },
      "source": [
        "##Harsh Mahajan J027\n",
        "##Akash Patil J036"
      ]
    },
    {
      "cell_type": "markdown",
      "metadata": {
        "id": "eUkKzn-yM6nl"
      },
      "source": [
        "##  PySpark setup"
      ]
    },
    {
      "cell_type": "code",
      "metadata": {
        "id": "caYh86ewKs6F"
      },
      "source": [
        "!apt-get install openjdk-8-jdk-headless -qq > /dev/nul\n",
        "!wget -q https://mirrors.estointernet.in/apache/spark/spark-3.1.1/spark-3.1.1-bin-hadoop2.7.tgz\n",
        "!tar xf spark-3.1.1-bin-hadoop2.7.tgz\n",
        "!pip install -q findspark\n"
      ],
      "execution_count": 13,
      "outputs": []
    },
    {
      "cell_type": "code",
      "metadata": {
        "colab": {
          "base_uri": "https://localhost:8080/",
          "height": 35
        },
        "id": "9dAAv3IQKaAL",
        "outputId": "d009602e-d1f5-4374-b60d-15e2c321b5f9"
      },
      "source": [
        "import os\n",
        "os.environ[\"JAVA_HOME\"] = \"/usr/lib/jvm/java-8-openjdk-amd64\"\n",
        "os.environ[\"SPARK_HOME\"] = \"/content/spark-3.1.1-bin-hadoop2.7\"\n",
        "import findspark\n",
        "findspark.init()\n",
        "findspark.find()"
      ],
      "execution_count": 14,
      "outputs": [
        {
          "output_type": "execute_result",
          "data": {
            "application/vnd.google.colaboratory.intrinsic+json": {
              "type": "string"
            },
            "text/plain": [
              "'/content/spark-3.1.1-bin-hadoop2.7'"
            ]
          },
          "metadata": {
            "tags": []
          },
          "execution_count": 14
        }
      ]
    },
    {
      "cell_type": "markdown",
      "metadata": {
        "id": "xepHpYGqNBej"
      },
      "source": [
        "## Download movie lens data:  \n",
        "https://www.kaggle.com/grouplens/movielens-20m-dataset?select=movie.csv"
      ]
    },
    {
      "cell_type": "code",
      "metadata": {
        "id": "UsVbEztyM3kP"
      },
      "source": [
        "! pip install -q kaggle"
      ],
      "execution_count": 15,
      "outputs": []
    },
    {
      "cell_type": "code",
      "metadata": {
        "colab": {
          "resources": {
            "http://localhost:8080/nbextensions/google.colab/files.js": {
              "data": "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",
              "ok": true,
              "headers": [
                [
                  "content-type",
                  "application/javascript"
                ]
              ],
              "status": 200,
              "status_text": ""
            }
          },
          "base_uri": "https://localhost:8080/",
          "height": 89
        },
        "id": "DO8HpAmBNegk",
        "outputId": "06165fd0-2d32-493f-bfd5-fb0b0ff5665e"
      },
      "source": [
        "from google.colab import files\n",
        "files.upload()"
      ],
      "execution_count": 16,
      "outputs": [
        {
          "output_type": "display_data",
          "data": {
            "text/html": [
              "\n",
              "     <input type=\"file\" id=\"files-4f7698db-2c6f-45c2-94ce-af357f191c1e\" name=\"files[]\" multiple disabled\n",
              "        style=\"border:none\" />\n",
              "     <output id=\"result-4f7698db-2c6f-45c2-94ce-af357f191c1e\">\n",
              "      Upload widget is only available when the cell has been executed in the\n",
              "      current browser session. Please rerun this cell to enable.\n",
              "      </output>\n",
              "      <script src=\"/nbextensions/google.colab/files.js\"></script> "
            ],
            "text/plain": [
              "<IPython.core.display.HTML object>"
            ]
          },
          "metadata": {
            "tags": []
          }
        },
        {
          "output_type": "stream",
          "text": [
            "Saving kaggle.json to kaggle.json\n"
          ],
          "name": "stdout"
        },
        {
          "output_type": "execute_result",
          "data": {
            "text/plain": [
              "{'kaggle.json': b'{\"username\":\"harshgmahajan\",\"key\":\"7374cf43367a136f94493faa148f801b\"}'}"
            ]
          },
          "metadata": {
            "tags": []
          },
          "execution_count": 16
        }
      ]
    },
    {
      "cell_type": "code",
      "metadata": {
        "colab": {
          "base_uri": "https://localhost:8080/"
        },
        "id": "U4uJPduqNqXk",
        "outputId": "ce6efab6-74f6-4eea-a8cd-bb63e87c6c38"
      },
      "source": [
        "! mkdir ~/.kaggle\n",
        "! cp kaggle.json ~/.kaggle/\n",
        "! chmod 600 ~/.kaggle/kaggle.json\n",
        "! kaggle datasets list"
      ],
      "execution_count": 17,
      "outputs": [
        {
          "output_type": "stream",
          "text": [
            "mkdir: cannot create directory ‘/root/.kaggle’: File exists\n",
            "Warning: Looks like you're using an outdated API Version, please consider updating (server 1.5.12 / client 1.5.4)\n",
            "ref                                                         title                                              size  lastUpdated          downloadCount  \n",
            "----------------------------------------------------------  ------------------------------------------------  -----  -------------------  -------------  \n",
            "gpreda/reddit-vaccine-myths                                 Reddit Vaccine Myths                              223KB  2021-04-09 08:39:14           2297  \n",
            "crowww/a-large-scale-fish-dataset                           A Large Scale Fish Dataset                          3GB  2021-02-17 16:10:44           1332  \n",
            "dhruvildave/wikibooks-dataset                               Wikibooks Dataset                                   1GB  2021-02-18 10:08:27           1013  \n",
            "imsparsh/musicnet-dataset                                   MusicNet Dataset                                   22GB  2021-02-18 14:12:19            479  \n",
            "promptcloud/careerbuilder-job-listing-2020                  Careerbuilder Job Listing 2020                     42MB  2021-03-05 06:59:52            218  \n",
            "mathurinache/twitter-edge-nodes                             Twitter Edge Nodes                                342MB  2021-03-08 06:43:04            117  \n",
            "alsgroup/end-als                                            End ALS Kaggle Challenge                           12GB  2021-04-08 12:16:37            355  \n",
            "simiotic/github-code-snippets                               GitHub Code Snippets                                7GB  2021-03-03 11:34:39             46  \n",
            "fatiimaezzahra/famous-iconic-women                          Famous Iconic Women                               838MB  2021-02-28 14:56:00            330  \n",
            "mathurinache/the-lj-speech-dataset                          The LJ Speech Dataset                               3GB  2021-02-15 09:19:54             81  \n",
            "nickuzmenkov/nih-chest-xrays-tfrecords                      NIH Chest X-rays TFRecords                         11GB  2021-03-09 04:49:23            213  \n",
            "nickuzmenkov/ranzcr-clip-kfold-tfrecords                    RANZCR CLiP KFold TFRecords                         2GB  2021-02-21 13:29:51             49  \n",
            "coloradokb/dandelionimages                                  DandelionImages                                     4GB  2021-02-19 20:03:47            143  \n",
            "stuartjames/lights                                          LightS: Light Specularity Dataset                  18GB  2021-02-18 14:32:26             28  \n",
            "landrykezebou/lvzhdr-tone-mapping-benchmark-dataset-tmonet  LVZ-HDR Tone Mapping Benchmark Dataset (TMO-Net)   24GB  2021-03-01 05:03:40             40  \n",
            "imsparsh/accentdb-core-extended                             AccentDB - Core & Extended                          6GB  2021-02-17 14:22:54             34  \n",
            "shivamb/netflix-shows                                       Netflix Movies and TV Shows                         1MB  2021-01-18 16:20:26         131474  \n",
            "jsphyg/weather-dataset-rattle-package                       Rain in Australia                                   4MB  2020-12-11 10:26:12          44093  \n",
            "arashnic/hr-analytics-job-change-of-data-scientists         HR Analytics: Job Change of Data Scientists       295KB  2020-12-07 00:25:10          19384  \n",
            "datasnaek/youtube-new                                       Trending YouTube Video Statistics                 201MB  2019-06-03 00:56:47         134271  \n"
          ],
          "name": "stdout"
        }
      ]
    },
    {
      "cell_type": "code",
      "metadata": {
        "colab": {
          "base_uri": "https://localhost:8080/"
        },
        "id": "oCe5nOvYN-GT",
        "outputId": "a96eff0d-3b1d-49b2-f0d8-a0d8edcf20e5"
      },
      "source": [
        "!kaggle datasets download -d grouplens/movielens-20m-dataset"
      ],
      "execution_count": 18,
      "outputs": [
        {
          "output_type": "stream",
          "text": [
            "Downloading movielens-20m-dataset.zip to /content\n",
            " 94% 184M/195M [00:01<00:00, 110MB/s]\n",
            "100% 195M/195M [00:01<00:00, 116MB/s]\n"
          ],
          "name": "stdout"
        }
      ]
    },
    {
      "cell_type": "code",
      "metadata": {
        "colab": {
          "base_uri": "https://localhost:8080/"
        },
        "id": "cL3-VzNlOZXC",
        "outputId": "5d983fe9-f543-43fa-e889-8920eb78be50"
      },
      "source": [
        "!unzip /content/movielens-20m-dataset.zip"
      ],
      "execution_count": 19,
      "outputs": [
        {
          "output_type": "stream",
          "text": [
            "Archive:  /content/movielens-20m-dataset.zip\n",
            "  inflating: genome_scores.csv       \n",
            "  inflating: genome_tags.csv         \n",
            "  inflating: link.csv                \n",
            "  inflating: movie.csv               \n",
            "  inflating: rating.csv              \n",
            "  inflating: tag.csv                 \n"
          ],
          "name": "stdout"
        }
      ]
    },
    {
      "cell_type": "markdown",
      "metadata": {
        "id": "gvcmCf_SOycr"
      },
      "source": [
        "# Movie Recommendation using PySpark"
      ]
    },
    {
      "cell_type": "code",
      "metadata": {
        "id": "moY9zIJqPl-E"
      },
      "source": [
        "import os\n",
        "import sys\n",
        "os.environ['PYSPARK_PYTHON'] = sys.executable\n",
        "os.environ['PYSPARK_DRIVER_PYTHON'] = sys.executable"
      ],
      "execution_count": 20,
      "outputs": []
    },
    {
      "cell_type": "code",
      "metadata": {
        "id": "baKJ3dqXSFHd"
      },
      "source": [
        "from pyspark.sql.functions import col"
      ],
      "execution_count": 21,
      "outputs": []
    },
    {
      "cell_type": "code",
      "metadata": {
        "id": "oQnjhrJVE-Fh"
      },
      "source": [
        "from pyspark.sql.functions import lit"
      ],
      "execution_count": 22,
      "outputs": []
    },
    {
      "cell_type": "code",
      "metadata": {
        "id": "SRNw2VhUOxpS"
      },
      "source": [
        "def get_mat_sparsity(ratings):\n",
        "    # Count the total number of ratings in the dataset\n",
        "    count_nonzero = ratings.select(\"rating\").count()\n",
        "\n",
        "    # Count the number of distinct userIds and distinct movieIds\n",
        "    total_elements = ratings.select(\"userId\").distinct().count() * ratings.select(\"movieId\").distinct().count()\n",
        "\n",
        "    # Divide the numerator by the denominator\n",
        "    sparsity = (1.0 - (count_nonzero *1.0)/total_elements)*100\n",
        "    print(\"The ratings dataframe is \", \"%.2f\" % sparsity + \"% sparse.\")"
      ],
      "execution_count": 23,
      "outputs": []
    },
    {
      "cell_type": "code",
      "metadata": {
        "colab": {
          "base_uri": "https://localhost:8080/"
        },
        "id": "dYqIvUMPOrar",
        "outputId": "bf356325-0a08-484a-b753-789d3bd7596f"
      },
      "source": [
        "from pyspark.sql import SparkSession\n",
        "spark = SparkSession.builder.appName('Recommendations').getOrCreate()\n",
        "movies = spark.read.csv(\"movie.csv\",header=True)\n",
        "ratings = spark.read.csv(\"rating.csv\",header=True)\n",
        "ratings.show()"
      ],
      "execution_count": 24,
      "outputs": [
        {
          "output_type": "stream",
          "text": [
            "+------+-------+------+-------------------+\n",
            "|userId|movieId|rating|          timestamp|\n",
            "+------+-------+------+-------------------+\n",
            "|     1|      2|   3.5|2005-04-02 23:53:47|\n",
            "|     1|     29|   3.5|2005-04-02 23:31:16|\n",
            "|     1|     32|   3.5|2005-04-02 23:33:39|\n",
            "|     1|     47|   3.5|2005-04-02 23:32:07|\n",
            "|     1|     50|   3.5|2005-04-02 23:29:40|\n",
            "|     1|    112|   3.5|2004-09-10 03:09:00|\n",
            "|     1|    151|     4|2004-09-10 03:08:54|\n",
            "|     1|    223|     4|2005-04-02 23:46:13|\n",
            "|     1|    253|     4|2005-04-02 23:35:40|\n",
            "|     1|    260|     4|2005-04-02 23:33:46|\n",
            "|     1|    293|     4|2005-04-02 23:31:43|\n",
            "|     1|    296|     4|2005-04-02 23:32:47|\n",
            "|     1|    318|     4|2005-04-02 23:33:18|\n",
            "|     1|    337|   3.5|2004-09-10 03:08:29|\n",
            "|     1|    367|   3.5|2005-04-02 23:53:00|\n",
            "|     1|    541|     4|2005-04-02 23:30:03|\n",
            "|     1|    589|   3.5|2005-04-02 23:45:57|\n",
            "|     1|    593|   3.5|2005-04-02 23:31:01|\n",
            "|     1|    653|     3|2004-09-10 03:08:11|\n",
            "|     1|    919|   3.5|2004-09-10 03:07:01|\n",
            "+------+-------+------+-------------------+\n",
            "only showing top 20 rows\n",
            "\n"
          ],
          "name": "stdout"
        }
      ]
    },
    {
      "cell_type": "code",
      "metadata": {
        "colab": {
          "base_uri": "https://localhost:8080/"
        },
        "id": "0A1XgcshPA70",
        "outputId": "24913e00-b0b2-41bc-a2db-46f9f4ac23c8"
      },
      "source": [
        "movies.show()"
      ],
      "execution_count": 25,
      "outputs": [
        {
          "output_type": "stream",
          "text": [
            "+-------+--------------------+--------------------+\n",
            "|movieId|               title|              genres|\n",
            "+-------+--------------------+--------------------+\n",
            "|      1|    Toy Story (1995)|Adventure|Animati...|\n",
            "|      2|      Jumanji (1995)|Adventure|Childre...|\n",
            "|      3|Grumpier Old Men ...|      Comedy|Romance|\n",
            "|      4|Waiting to Exhale...|Comedy|Drama|Romance|\n",
            "|      5|Father of the Bri...|              Comedy|\n",
            "|      6|         Heat (1995)|Action|Crime|Thri...|\n",
            "|      7|      Sabrina (1995)|      Comedy|Romance|\n",
            "|      8| Tom and Huck (1995)|  Adventure|Children|\n",
            "|      9| Sudden Death (1995)|              Action|\n",
            "|     10|    GoldenEye (1995)|Action|Adventure|...|\n",
            "|     11|American Presiden...|Comedy|Drama|Romance|\n",
            "|     12|Dracula: Dead and...|       Comedy|Horror|\n",
            "|     13|        Balto (1995)|Adventure|Animati...|\n",
            "|     14|        Nixon (1995)|               Drama|\n",
            "|     15|Cutthroat Island ...|Action|Adventure|...|\n",
            "|     16|       Casino (1995)|         Crime|Drama|\n",
            "|     17|Sense and Sensibi...|       Drama|Romance|\n",
            "|     18|   Four Rooms (1995)|              Comedy|\n",
            "|     19|Ace Ventura: When...|              Comedy|\n",
            "|     20|  Money Train (1995)|Action|Comedy|Cri...|\n",
            "+-------+--------------------+--------------------+\n",
            "only showing top 20 rows\n",
            "\n"
          ],
          "name": "stdout"
        }
      ]
    },
    {
      "cell_type": "code",
      "metadata": {
        "colab": {
          "base_uri": "https://localhost:8080/"
        },
        "id": "veivI1W-RLk0",
        "outputId": "e7df1f67-8268-4d4d-fbad-8d409e9a4457"
      },
      "source": [
        "ratings = ratings.\\\n",
        "          withColumn('userId', col('userId').cast('integer')).\\\n",
        "          withColumn('movieId', col('MovieId').cast('integer')).\\\n",
        "          withColumn('rating', col('rating').cast('float')).\\\n",
        "          drop('timestamp')\n",
        "\n",
        "ratings.show()"
      ],
      "execution_count": 26,
      "outputs": [
        {
          "output_type": "stream",
          "text": [
            "+------+-------+------+\n",
            "|userId|movieId|rating|\n",
            "+------+-------+------+\n",
            "|     1|      2|   3.5|\n",
            "|     1|     29|   3.5|\n",
            "|     1|     32|   3.5|\n",
            "|     1|     47|   3.5|\n",
            "|     1|     50|   3.5|\n",
            "|     1|    112|   3.5|\n",
            "|     1|    151|   4.0|\n",
            "|     1|    223|   4.0|\n",
            "|     1|    253|   4.0|\n",
            "|     1|    260|   4.0|\n",
            "|     1|    293|   4.0|\n",
            "|     1|    296|   4.0|\n",
            "|     1|    318|   4.0|\n",
            "|     1|    337|   3.5|\n",
            "|     1|    367|   3.5|\n",
            "|     1|    541|   4.0|\n",
            "|     1|    589|   3.5|\n",
            "|     1|    593|   3.5|\n",
            "|     1|    653|   3.0|\n",
            "|     1|    919|   3.5|\n",
            "+------+-------+------+\n",
            "only showing top 20 rows\n",
            "\n"
          ],
          "name": "stdout"
        }
      ]
    },
    {
      "cell_type": "code",
      "metadata": {
        "id": "kByKu8U9P3tE"
      },
      "source": [
        "movie_ratings = ratings.join(movies, ['movieId'], 'left')"
      ],
      "execution_count": 27,
      "outputs": []
    },
    {
      "cell_type": "code",
      "metadata": {
        "colab": {
          "base_uri": "https://localhost:8080/"
        },
        "id": "i_7WLRKGAMFt",
        "outputId": "18b3c775-1915-4ae2-c074-17d474200262"
      },
      "source": [
        "get_mat_sparsity(ratings)"
      ],
      "execution_count": 28,
      "outputs": [
        {
          "output_type": "stream",
          "text": [
            "The ratings dataframe is  99.46% sparse.\n"
          ],
          "name": "stdout"
        }
      ]
    },
    {
      "cell_type": "code",
      "metadata": {
        "id": "Mn5H78i3ActC"
      },
      "source": [
        "(train, test) = ratings.randomSplit([0.8, 0.2], seed = 1234)"
      ],
      "execution_count": 29,
      "outputs": []
    },
    {
      "cell_type": "code",
      "metadata": {
        "id": "hxh3t9DZA2j2"
      },
      "source": [
        "# def get_binary_data(ratings):\n",
        "#   ratings = ratings.withColumn('binary', lit(1))\n",
        "#   userIds = ratings.select('userId').distinct()\n",
        "#   movieIds = ratings.select('movieId').distinct()\n",
        "\n",
        "#   user_movie = userIds.crossJoin(movieIds).join(ratings, ['userId', 'movieId'], \"left\")\n",
        "#   user_movie = user_movie.select(['userId', 'movieid', 'binary']).fillna(0)\n",
        "#   return user_movie\n",
        "\n",
        "# user_movie = get_binary_data(ratings)\n",
        "# user_movie"
      ],
      "execution_count": 30,
      "outputs": []
    },
    {
      "cell_type": "code",
      "metadata": {
        "id": "8LVmvWQyGmZv"
      },
      "source": [
        "from pyspark.ml.evaluation import RegressionEvaluator\n",
        "from pyspark.ml.recommendation import ALS\n",
        "from pyspark.ml.tuning import ParamGridBuilder, CrossValidator"
      ],
      "execution_count": 31,
      "outputs": []
    },
    {
      "cell_type": "code",
      "metadata": {
        "id": "GS4W3M67M0Ka"
      },
      "source": [
        "als = ALS(\n",
        "            userCol = 'userId',\n",
        "          itemCol = 'movieId',\n",
        "          ratingCol = 'rating',\n",
        "          nonnegative = True,\n",
        "          implicitPrefs = False,\n",
        "          coldStartStrategy = 'drop'\n",
        "\n",
        ")"
      ],
      "execution_count": 32,
      "outputs": []
    },
    {
      "cell_type": "code",
      "metadata": {
        "colab": {
          "base_uri": "https://localhost:8080/"
        },
        "id": "8p8OMyxfNQ9S",
        "outputId": "de1c5928-4618-4299-c512-0271bae38950"
      },
      "source": [
        "type(als)"
      ],
      "execution_count": 33,
      "outputs": [
        {
          "output_type": "execute_result",
          "data": {
            "text/plain": [
              "pyspark.ml.recommendation.ALS"
            ]
          },
          "metadata": {
            "tags": []
          },
          "execution_count": 33
        }
      ]
    },
    {
      "cell_type": "code",
      "metadata": {
        "colab": {
          "base_uri": "https://localhost:8080/"
        },
        "id": "NWNW_bHtNn1N",
        "outputId": "2128ad10-03b1-4cf5-97c5-e4c899b4f61b"
      },
      "source": [
        "param_grid = ParamGridBuilder()\\\n",
        "              .addGrid(als.rank,[50])\\\n",
        "              .addGrid(als.regParam,[.15])\\\n",
        "              .build()\n",
        "\n",
        "\n",
        "\n",
        "evaluator = RegressionEvaluator(metricName='rmse', labelCol='rating', predictionCol= 'prediction')\n",
        "\n",
        "print(f'Total models = {len(param_grid)}')"
      ],
      "execution_count": 34,
      "outputs": [
        {
          "output_type": "stream",
          "text": [
            "Total models = 1\n"
          ],
          "name": "stdout"
        }
      ]
    },
    {
      "cell_type": "code",
      "metadata": {
        "id": "SwNDukEJOX0h"
      },
      "source": [
        "cv = CrossValidator(estimator=als,\n",
        "                    estimatorParamMaps=param_grid,\n",
        "                    evaluator = evaluator,\n",
        "                    numFolds=5)"
      ],
      "execution_count": 35,
      "outputs": []
    },
    {
      "cell_type": "code",
      "metadata": {
        "colab": {
          "base_uri": "https://localhost:8080/"
        },
        "id": "reFzGaSKRCE7",
        "outputId": "8f05c056-da51-4a99-c24b-725b40585751"
      },
      "source": [
        "train.dtypes"
      ],
      "execution_count": 36,
      "outputs": [
        {
          "output_type": "execute_result",
          "data": {
            "text/plain": [
              "[('userId', 'int'), ('movieId', 'int'), ('rating', 'float')]"
            ]
          },
          "metadata": {
            "tags": []
          },
          "execution_count": 36
        }
      ]
    },
    {
      "cell_type": "code",
      "metadata": {
        "id": "7TyRrIo-Qv7g"
      },
      "source": [
        "model = cv.fit(train)\n",
        "best_model = model.bestModel"
      ],
      "execution_count": 37,
      "outputs": []
    },
    {
      "cell_type": "code",
      "metadata": {
        "id": "oY03VT_bSgh-",
        "colab": {
          "base_uri": "https://localhost:8080/"
        },
        "outputId": "f258f05a-11d1-40ce-e11a-4ced9e656f3b"
      },
      "source": [
        "# Print best_model\n",
        "print(type(best_model))\n",
        "\n",
        "# Complete the code below to extract the ALS model parameters\n",
        "print(\"**Best Model**\")\n",
        "\n",
        "print(\"  Rank:\", best_model._java_obj.parent().getRank())\n",
        "\n",
        "print(\"  MaxIter:\", best_model._java_obj.parent().getMaxIter())\n",
        "print(\"  RegParam:\", best_model._java_obj.parent().getRegParam())"
      ],
      "execution_count": 38,
      "outputs": [
        {
          "output_type": "stream",
          "text": [
            "<class 'pyspark.ml.recommendation.ALSModel'>\n",
            "**Best Model**\n",
            "  Rank: 50\n",
            "  MaxIter: 10\n",
            "  RegParam: 0.15\n"
          ],
          "name": "stdout"
        }
      ]
    },
    {
      "cell_type": "code",
      "metadata": {
        "id": "b8Hz4DS5UMML",
        "colab": {
          "base_uri": "https://localhost:8080/"
        },
        "outputId": "9490535e-7432-4ff8-bdb6-9ce63710c849"
      },
      "source": [
        "test_predictions = best_model.transform(test)\n",
        "RMSE = evaluator.evaluate(test_predictions)\n",
        "print(RMSE)"
      ],
      "execution_count": 39,
      "outputs": [
        {
          "output_type": "stream",
          "text": [
            "0.8415014622149738\n"
          ],
          "name": "stdout"
        }
      ]
    },
    {
      "cell_type": "code",
      "metadata": {
        "id": "2Ak6Uv9qURda",
        "colab": {
          "base_uri": "https://localhost:8080/"
        },
        "outputId": "93e146a3-4fcd-4272-d9c9-652d5118a6a9"
      },
      "source": [
        "test_predictions.show()"
      ],
      "execution_count": 40,
      "outputs": [
        {
          "output_type": "stream",
          "text": [
            "+------+-------+------+----------+\n",
            "|userId|movieId|rating|prediction|\n",
            "+------+-------+------+----------+\n",
            "|136222|    148|   2.0|  2.491131|\n",
            "|137949|    148|   4.0| 3.0596452|\n",
            "| 88527|    148|   2.0|  2.393355|\n",
            "| 96427|    148|   3.0| 2.9514785|\n",
            "| 36821|    148|   4.0|  2.921179|\n",
            "| 32882|    148|   3.0| 2.8045843|\n",
            "| 46146|    148|   2.0| 1.9020759|\n",
            "| 54726|    148|   5.0| 3.2115035|\n",
            "|  3990|    148|   4.0| 2.3936944|\n",
            "| 80693|    148|   1.0|  2.821476|\n",
            "| 64843|    148|   3.5| 2.6998665|\n",
            "| 81300|    148|   1.0| 2.8312736|\n",
            "| 48644|    148|   3.0|  2.976367|\n",
            "| 62028|    148|   3.0|  2.754606|\n",
            "|128653|    148|   2.0| 2.4576988|\n",
            "|  9084|    148|   2.0| 2.9356146|\n",
            "| 70446|    148|   2.0| 2.9667842|\n",
            "| 75359|    148|   3.0|  3.054236|\n",
            "|110991|    148|   2.5| 2.7476103|\n",
            "| 10434|    148|   3.0| 2.5901828|\n",
            "+------+-------+------+----------+\n",
            "only showing top 20 rows\n",
            "\n"
          ],
          "name": "stdout"
        }
      ]
    },
    {
      "cell_type": "code",
      "metadata": {
        "id": "U71yWDhuU1Tp",
        "colab": {
          "base_uri": "https://localhost:8080/"
        },
        "outputId": "2c6ea83a-75f6-45e6-cbb0-dabfff7ded6b"
      },
      "source": [
        "recommendations = best_model.recommendForAllUsers(5)\n",
        "recommendations.show()"
      ],
      "execution_count": 46,
      "outputs": [
        {
          "output_type": "stream",
          "text": [
            "+------+--------------------+\n",
            "|userId|     recommendations|\n",
            "+------+--------------------+\n",
            "|   148|[{126219, 8.39826...|\n",
            "|   463|[{126219, 8.15138...|\n",
            "|   471|[{126219, 7.43523...|\n",
            "|   496|[{124273, 8.26212...|\n",
            "|   833|[{126219, 6.78427...|\n",
            "|  1088|[{126219, 6.39640...|\n",
            "|  1238|[{126219, 7.20006...|\n",
            "|  1342|[{124273, 8.41531...|\n",
            "|  1580|[{126219, 4.74984...|\n",
            "|  1591|[{126219, 8.03947...|\n",
            "|  1645|[{126219, 7.56821...|\n",
            "|  1829|[{126219, 8.01193...|\n",
            "|  1959|[{124273, 5.77091...|\n",
            "|  2122|[{124273, 5.76372...|\n",
            "|  2142|[{124273, 7.64377...|\n",
            "|  2366|[{126219, 7.98785...|\n",
            "|  2659|[{124273, 7.83930...|\n",
            "|  2866|[{124273, 7.44579...|\n",
            "|  3175|[{126219, 8.26140...|\n",
            "|  3749|[{124273, 7.69442...|\n",
            "+------+--------------------+\n",
            "only showing top 20 rows\n",
            "\n"
          ],
          "name": "stdout"
        }
      ]
    },
    {
      "cell_type": "code",
      "metadata": {
        "id": "y8xSxQRsU1Qj",
        "colab": {
          "base_uri": "https://localhost:8080/"
        },
        "outputId": "1a022c3b-cd93-4052-cdf1-99f0c6957595"
      },
      "source": [
        "from pyspark.sql.functions import explode\n",
        "nrecommendations = recommendations\\\n",
        "    .withColumn(\"rec_exp\", explode(\"recommendations\"))\\\n",
        "    .select('userId', col(\"rec_exp.movieId\"), col(\"rec_exp.rating\"))\n",
        "nrecommendations.limit(10).show()"
      ],
      "execution_count": 47,
      "outputs": [
        {
          "output_type": "stream",
          "text": [
            "+------+-------+---------+\n",
            "|userId|movieId|   rating|\n",
            "+------+-------+---------+\n",
            "|   148| 126219| 8.398266|\n",
            "|   148| 124273|6.4455123|\n",
            "|   148| 121029|6.0048666|\n",
            "|   148| 107252| 5.408712|\n",
            "|   148| 114906|5.3056736|\n",
            "|   463| 126219| 8.151387|\n",
            "|   463| 124273| 7.657086|\n",
            "|   463| 121029|6.5026603|\n",
            "|   463| 107252| 5.931095|\n",
            "|   463| 110173| 5.782737|\n",
            "+------+-------+---------+\n",
            "\n"
          ],
          "name": "stdout"
        }
      ]
    },
    {
      "cell_type": "code",
      "metadata": {
        "id": "g0FdVTBxU1NI",
        "colab": {
          "base_uri": "https://localhost:8080/"
        },
        "outputId": "cde98be5-bb88-4702-b8dc-d162699a1674"
      },
      "source": [
        "nrecommendations.join(movies, on='movieId').filter('userId = 100').show()"
      ],
      "execution_count": 48,
      "outputs": [
        {
          "output_type": "stream",
          "text": [
            "+-------+------+---------+--------------------+-----------------+\n",
            "|movieId|userId|   rating|               title|           genres|\n",
            "+-------+------+---------+--------------------+-----------------+\n",
            "| 124273|   100| 6.943989|Kevin Smith: Too ...|           Comedy|\n",
            "| 126219|   100|6.0016937|    Marihuana (1936)|Documentary|Drama|\n",
            "| 121029|   100| 5.364783|No Distance Left ...|      Documentary|\n",
            "|  81117|   100|5.1327386|Moth, The (Cma) (...|            Drama|\n",
            "| 130347|   100|4.9154716|Bill Hicks: Sane ...|           Comedy|\n",
            "+-------+------+---------+--------------------+-----------------+\n",
            "\n"
          ],
          "name": "stdout"
        }
      ]
    },
    {
      "cell_type": "code",
      "metadata": {
        "id": "0tpL7uYiU1J8",
        "colab": {
          "base_uri": "https://localhost:8080/"
        },
        "outputId": "6826e77d-a19e-4cda-9d72-45a663106b5b"
      },
      "source": [
        "ratings.join(movies, on='movieId').filter('userId = 100').sort('rating', ascending=False).limit(10).show()"
      ],
      "execution_count": 49,
      "outputs": [
        {
          "output_type": "stream",
          "text": [
            "+-------+------+------+--------------------+--------------------+\n",
            "|movieId|userId|rating|               title|              genres|\n",
            "+-------+------+------+--------------------+--------------------+\n",
            "|     50|   100|   5.0|Usual Suspects, T...|Crime|Mystery|Thr...|\n",
            "|    293|   100|   5.0|Léon: The Profess...|Action|Crime|Dram...|\n",
            "|    680|   100|   5.0|Alphaville (Alpha...|Drama|Mystery|Rom...|\n",
            "|   1449|   100|   5.0|Waiting for Guffm...|              Comedy|\n",
            "|    235|   100|   4.0|      Ed Wood (1994)|        Comedy|Drama|\n",
            "|    162|   100|   4.0|        Crumb (1994)|         Documentary|\n",
            "|    223|   100|   4.0|       Clerks (1994)|              Comedy|\n",
            "|    260|   100|   4.0|Star Wars: Episod...|Action|Adventure|...|\n",
            "|    265|   100|   4.0|Like Water for Ch...|Drama|Fantasy|Rom...|\n",
            "|    288|   100|   4.0|Natural Born Kill...|Action|Crime|Thri...|\n",
            "+-------+------+------+--------------------+--------------------+\n",
            "\n"
          ],
          "name": "stdout"
        }
      ]
    },
    {
      "cell_type": "markdown",
      "metadata": {
        "id": "ZNCLOo_k-NSS"
      },
      "source": [
        "![image.png](data:image/png;base64,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)"
      ]
    },
    {
      "cell_type": "markdown",
      "metadata": {
        "id": "lYlDsLpU-TEk"
      },
      "source": [
        "files in local environment"
      ]
    }
  ]
}